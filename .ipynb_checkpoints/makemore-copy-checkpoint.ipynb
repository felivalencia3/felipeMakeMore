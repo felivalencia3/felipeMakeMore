{
 "cells": [
  {
   "cell_type": "code",
   "execution_count": 11,
   "id": "a9b9b74c",
   "metadata": {
    "ExecuteTime": {
     "end_time": "2023-12-29T00:07:12.137882Z",
     "start_time": "2023-12-29T00:07:12.126940Z"
    }
   },
   "outputs": [],
   "source": [
    "words = open(\"names.txt\", \"r\").read().splitlines()"
   ]
  },
  {
   "cell_type": "code",
   "execution_count": 12,
   "id": "fb40af7f2b89879a",
   "metadata": {
    "ExecuteTime": {
     "end_time": "2023-12-29T00:07:14.104671Z",
     "start_time": "2023-12-29T00:07:12.138439Z"
    }
   },
   "outputs": [],
   "source": [
    "import torch"
   ]
  },
  {
   "cell_type": "code",
   "execution_count": 13,
   "id": "d2acda780398be42",
   "metadata": {
    "ExecuteTime": {
     "end_time": "2023-12-29T00:07:14.119321Z",
     "start_time": "2023-12-29T00:07:14.107348Z"
    }
   },
   "outputs": [],
   "source": [
    "N = torch.zeros((28, 28), dtype=torch.int32)"
   ]
  },
  {
   "cell_type": "code",
   "execution_count": 14,
   "id": "ab267f0da128f215",
   "metadata": {
    "ExecuteTime": {
     "end_time": "2023-12-29T00:07:14.119724Z",
     "start_time": "2023-12-29T00:07:14.116313Z"
    }
   },
   "outputs": [],
   "source": [
    "s_to_i = {s: ord(s) - ord('a') for s in (\"abcdefghijklmnopqrstuvwxyz\")}\n",
    "s_to_i[\"<S>\"] = 26\n",
    "s_to_i[\"<E>\"] = 27"
   ]
  },
  {
   "cell_type": "code",
   "execution_count": 15,
   "id": "26645fd7e98a1ce3",
   "metadata": {
    "ExecuteTime": {
     "end_time": "2023-12-29T00:07:15.808382Z",
     "start_time": "2023-12-29T00:07:14.129753Z"
    }
   },
   "outputs": [],
   "source": [
    "for w in words:\n",
    "    chs = [\"<S>\"] + list(w) + [\"<E>\"]\n",
    "    for ch1, ch2 in zip(chs, chs[1:]):\n",
    "        ix1 = s_to_i[ch1]\n",
    "        ix2 = s_to_i[ch2]\n",
    "        N[ix1, ix2] += 1"
   ]
  },
  {
   "cell_type": "code",
   "execution_count": 16,
   "id": "3a95cf705a3aa875",
   "metadata": {
    "ExecuteTime": {
     "end_time": "2023-12-29T00:07:15.817275Z",
     "start_time": "2023-12-29T00:07:15.806779Z"
    }
   },
   "outputs": [],
   "source": [
    "i_to_s = {i: s for s, i in s_to_i.items()}"
   ]
  },
  {
   "cell_type": "code",
   "execution_count": 29,
   "id": "c0f281f2f9f708cb",
   "metadata": {},
   "outputs": [],
   "source": [
    "import matplotlib.pyplot as plt\n",
    "%matplotlib inline"
   ]
  },
  {
   "cell_type": "code",
   "execution_count": 28,
   "id": "3c94136c0ecb6ef6",
   "metadata": {},
   "outputs": [],
   "source": [
    "plt.figure(figsize=(16, 16))\n",
    "plt.imshow(N, cmap=\"Blues\")\n",
    "plt.axis(\"off\");"
   ]
  }
 ],
 "metadata": {
  "kernelspec": {
   "display_name": "Python 3 (ipykernel)",
   "language": "python",
   "name": "python3"
  },
  "language_info": {
   "codemirror_mode": {
    "name": "ipython",
    "version": 3
   },
   "file_extension": ".py",
   "mimetype": "text/x-python",
   "name": "python",
   "nbconvert_exporter": "python",
   "pygments_lexer": "ipython3",
   "version": "3.10.11"
  }
 },
 "nbformat": 4,
 "nbformat_minor": 5
}
